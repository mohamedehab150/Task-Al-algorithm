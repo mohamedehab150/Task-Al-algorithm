{
 "cells": [
  {
   "cell_type": "code",
   "execution_count": 3,
   "id": "409101d6-827d-4b29-912f-87d735256cd6",
   "metadata": {},
   "outputs": [
    {
     "name": "stdout",
     "output_type": "stream",
     "text": [
      "Edges in MST:\n",
      "2 -- 3 == 4\n",
      "0 -- 3 == 5\n",
      "0 -- 1 == 10\n"
     ]
    }
   ],
   "source": [
    "class Graph:\n",
    "    def __init__(self, vertices):\n",
    "        self.V = vertices  # Number of vertices\n",
    "        self.edges = []    # List to store edges\n",
    "\n",
    "    def add_edge(self, u, v, w):\n",
    "        self.edges.append((w, u, v))  # Store edges as (weight, u, v)\n",
    "\n",
    "    def find_set(self, parent, i):\n",
    "        if parent[i] != i:\n",
    "            parent[i] = self.find_set(parent, parent[i])  # Path compression\n",
    "        return parent[i]\n",
    "\n",
    "    def union(self, parent, rank, x, y):\n",
    "        rootX = self.find_set(parent, x)\n",
    "        rootY = self.find_set(parent, y)\n",
    "\n",
    "        if rootX != rootY:\n",
    "            if rank[rootX] > rank[rootY]:\n",
    "                parent[rootY] = rootX\n",
    "            elif rank[rootX] < rank[rootY]:\n",
    "                parent[rootX] = rootY\n",
    "            else:\n",
    "                parent[rootY] = rootX\n",
    "                rank[rootX] += 1\n",
    "\n",
    "    def kruskal(self):\n",
    "        self.edges.sort()  # Sort edges by weight\n",
    "        parent = []\n",
    "        rank = []\n",
    "        mst = []\n",
    "\n",
    "        # Initialize Union-Find\n",
    "        for node in range(self.V):\n",
    "            parent.append(node)\n",
    "            rank.append(0)\n",
    "\n",
    "        # Process edges\n",
    "        for weight, u, v in self.edges:\n",
    "            rootU = self.find_set(parent, u)\n",
    "            rootV = self.find_set(parent, v)\n",
    "\n",
    "            if rootU != rootV:  # If no cycle is formed\n",
    "                mst.append((u, v, weight))\n",
    "                self.union(parent, rank, rootU, rootV)\n",
    "\n",
    "            if len(mst) == self.V - 1:\n",
    "                break\n",
    "\n",
    "        return mst\n",
    "\n",
    "# Example Usage\n",
    "g = Graph(4)\n",
    "g.add_edge(0, 1, 10)\n",
    "g.add_edge(0, 2, 6)\n",
    "g.add_edge(0, 3, 5)\n",
    "g.add_edge(1, 3, 15)\n",
    "g.add_edge(2, 3, 4)\n",
    "\n",
    "mst = g.kruskal()\n",
    "print(\"Edges in MST:\")\n",
    "for u, v, weight in mst:\n",
    "    print(f\"{u} -- {v} == {weight}\")"
   ]
  },
  {
   "cell_type": "code",
   "execution_count": null,
   "id": "c84b1b6c-3e57-4ad8-86a2-01fc4027641d",
   "metadata": {},
   "outputs": [],
   "source": []
  }
 ],
 "metadata": {
  "kernelspec": {
   "display_name": "Python 3 (ipykernel)",
   "language": "python",
   "name": "python3"
  },
  "language_info": {
   "codemirror_mode": {
    "name": "ipython",
    "version": 3
   },
   "file_extension": ".py",
   "mimetype": "text/x-python",
   "name": "python",
   "nbconvert_exporter": "python",
   "pygments_lexer": "ipython3",
   "version": "3.12.7"
  }
 },
 "nbformat": 4,
 "nbformat_minor": 5
}
